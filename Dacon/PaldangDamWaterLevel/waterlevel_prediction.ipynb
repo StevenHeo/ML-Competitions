{
 "cells": [
  {
   "cell_type": "code",
   "execution_count": 1,
   "metadata": {},
   "outputs": [],
   "source": [
    "import os\n",
    "\n",
    "import numpy as np\n",
    "import pandas as pd\n",
    "\n",
    "import seaborn as sns \n",
    "import matplotlib.pyplot as plt\n",
    "\n",
    "plt.rcParams['figure.figsize']=(10,10)\n",
    "plt.rcParams['font.family']='AppleGothic'\n",
    "\n",
    "import warnings\n",
    "warnings.filterwarnings(action='ignore')\n"
   ]
  },
  {
   "cell_type": "code",
   "execution_count": 2,
   "metadata": {},
   "outputs": [],
   "source": [
    "def read_csv_by_dir(path):\n",
    "    df_raw = pd.DataFrame()\n",
    "    for files in sorted(os.listdir(path)):\n",
    "        if files.endswith('.csv'):\n",
    "            df = pd.read_csv('/'.join([path,files]), index_col = 0)\n",
    "            df.index = pd.to_datetime(df.index, format = '%Y-%m-%d %H:%M')\n",
    "\n",
    "        df_raw = pd.concat((df_raw,df),axis=0)\n",
    "    return df_raw"
   ]
  },
  {
   "cell_type": "code",
   "execution_count": 3,
   "metadata": {},
   "outputs": [],
   "source": [
    "path = './data'\n",
    "\n",
    "_df_rf_raw = read_csv_by_dir('/'.join([path,'rf_data']))\n",
    "_df_water_raw = read_csv_by_dir('/'.join([path,'water_data']))\n",
    "_submission_raw = pd.read_csv('/'.join([path,'sample_submission.csv']), index_col= 0)\n",
    "_submission_raw.index = pd.to_datetime(_submission_raw.index, format = '%Y-%m-%d %H:%M')\n",
    "\n",
    "#Copy raw data\n",
    "df_rf = _df_rf_raw.copy()\n",
    "df_water = _df_water_raw.copy()\n",
    "submission = _submission_raw.copy()\n",
    "\n",
    "df_rf.sort_index(inplace=True)\n",
    "df_water.sort_index(inplace=True)\n",
    "submission.sort_index(inplace=True)"
   ]
  },
  {
   "cell_type": "code",
   "execution_count": 4,
   "metadata": {},
   "outputs": [
    {
     "name": "stdout",
     "output_type": "stream",
     "text": [
      "=========\n",
      "2012-05-01 00:00:00\n",
      "2022-07-18 23:50:00\n",
      "=========\n",
      "2012-05-01 00:00:00\n",
      "2022-07-18 23:50:00\n",
      "=========\n",
      "2022-06-01 00:00:00\n",
      "2022-07-18 23:50:00\n"
     ]
    }
   ],
   "source": [
    "# 데이터 시간대 확인하기\n",
    "def check_datetime(df):\n",
    "    print('=========')\n",
    "    print(df.select_dtypes('datetime64[ns]').head(1).index[0])\n",
    "    print(df.select_dtypes('datetime64[ns]').tail(1).index[0])\n",
    "    return None\n",
    "\n",
    "check_datetime(df_rf)\n",
    "check_datetime(df_water)\n",
    "check_datetime(submission)"
   ]
  },
  {
   "cell_type": "code",
   "execution_count": 5,
   "metadata": {},
   "outputs": [],
   "source": [
    "# data target 분리하기\n",
    "target = df_water.loc[:,submission.columns]\n",
    "data = pd.concat((df_rf,df_water.drop(submission.columns,axis=1)),axis=1)\n",
    "\n",
    "# data와 target 하나 밀어주기 (과거데이터를 사용해야 함으로)\n",
    "_target = target.reset_index(drop=True)\n",
    "_data = data.reset_index(drop=True)\n",
    "\n",
    "_data.index += 1\n",
    "\n",
    "tot=pd.concat((_data,_target),axis=1)\n",
    "tot=tot.sort_index()\n",
    "\n",
    "tot=tot.iloc[1:-1]\n",
    "\n",
    "target = tot.loc[:,submission.columns]\n",
    "data = tot.drop(submission.columns,axis=1)"
   ]
  },
  {
   "cell_type": "code",
   "execution_count": 6,
   "metadata": {},
   "outputs": [],
   "source": [
    "train_target=target.iloc[:-len(submission),:]\n",
    "test_target=target.iloc[-len(submission):,:]\n",
    "\n",
    "train_data=data.iloc[:-len(submission),:]\n",
    "test_data=data.iloc[-len(submission):,:]\n"
   ]
  },
  {
   "cell_type": "code",
   "execution_count": 22,
   "metadata": {},
   "outputs": [
    {
     "data": {
      "text/plain": [
       "rf_10184100    0\n",
       "rf_10184110    0\n",
       "rf_10184140    0\n",
       "swl            0\n",
       "inf            0\n",
       "sfw            0\n",
       "ecpc           0\n",
       "tototf         0\n",
       "tide_level     0\n",
       "fw_1018662     0\n",
       "fw_1018680     0\n",
       "fw_1018683     0\n",
       "fw_1019630     0\n",
       "dtype: int64"
      ]
     },
     "execution_count": 22,
     "metadata": {},
     "output_type": "execute_result"
    }
   ],
   "source": [
    "train_target.fillna(method = 'ffill',inplace=True)\n",
    "test_target.fillna(method = 'ffill',inplace=True)\n",
    "train_data.fillna(method = 'ffill',inplace=True)\n",
    "test_data.fillna(method = 'ffill',inplace=True)\n",
    "\n",
    "test_data.fillna(train_data.mean(), inplace=True)\n",
    "test_data.isna().sum()"
   ]
  },
  {
   "cell_type": "code",
   "execution_count": 8,
   "metadata": {},
   "outputs": [
    {
     "name": "stdout",
     "output_type": "stream",
     "text": [
      "--data--\n",
      "(269423, 13)\n",
      "(6912, 13)\n",
      "--target--\n",
      "(269423, 4)\n",
      "(6912, 4)\n"
     ]
    }
   ],
   "source": [
    "print('--data--')\n",
    "print(train_data.shape)\n",
    "print(test_data.shape)\n",
    "print('--target--')\n",
    "print(train_target.shape)\n",
    "print(test_target.shape)"
   ]
  },
  {
   "cell_type": "code",
   "execution_count": 12,
   "metadata": {},
   "outputs": [],
   "source": [
    "from sklearn.model_selection import KFold\n",
    "# kfold = KFold(n_splits=2, shuffle=False)\n",
    "\n",
    "from sklearn.ensemble import RandomForestRegressor\n",
    "rf = RandomForestRegressor(n_jobs=2)\n",
    "\n",
    "params = {\n",
    "    \"n_estimators\" : (100, 150, 200)\n",
    "}\n",
    "\n",
    "from sklearn.model_selection import GridSearchCV\n",
    "grid_cv = GridSearchCV(rf,\n",
    "                       param_grid=params,\n",
    "                    #    cv = kfold,\n",
    "                       n_jobs=-1)\n",
    " d"
   ]
  },
  {
   "cell_type": "code",
   "execution_count": 13,
   "metadata": {},
   "outputs": [
    {
     "data": {
      "text/plain": [
       "GridSearchCV(estimator=RandomForestRegressor(n_jobs=2), n_jobs=-1,\n",
       "             param_grid={'n_estimators': (100, 150, 200)})"
      ]
     },
     "execution_count": 13,
     "metadata": {},
     "output_type": "execute_result"
    }
   ],
   "source": [
    "grid_cv.fit(train_data,train_target)"
   ]
  },
  {
   "cell_type": "code",
   "execution_count": 14,
   "metadata": {},
   "outputs": [
    {
     "data": {
      "text/plain": [
       "RandomForestRegressor(n_estimators=200, n_jobs=2)"
      ]
     },
     "execution_count": 14,
     "metadata": {},
     "output_type": "execute_result"
    }
   ],
   "source": [
    "grid_cv.best_estimator_"
   ]
  },
  {
   "cell_type": "code",
   "execution_count": 23,
   "metadata": {},
   "outputs": [],
   "source": [
    "model=grid_cv.best_estimator_\n",
    "model.fit(train_data,train_target)\n",
    "y_pred=model.predict(test_data)\n",
    "\n",
    "_submission_raw.iloc[:,:] = y_pred\n",
    "_submission_raw.to_csv('ans.csv')"
   ]
  },
  {
   "cell_type": "code",
   "execution_count": 24,
   "metadata": {},
   "outputs": [],
   "source": [
    "import pickle\n",
    "\n",
    "with open('data/model', 'wb') as f:\n",
    "    pickle.dump(model, f)\n"
   ]
  },
  {
   "cell_type": "code",
   "execution_count": null,
   "metadata": {},
   "outputs": [],
   "source": [
    "with open('data/model', 'rb') as f:\n",
    "    rf = pickle.load(f)"
   ]
  }
 ],
 "metadata": {
  "kernelspec": {
   "display_name": "Python 3.9.12 ('test')",
   "language": "python",
   "name": "python3"
  },
  "language_info": {
   "codemirror_mode": {
    "name": "ipython",
    "version": 3
   },
   "file_extension": ".py",
   "mimetype": "text/x-python",
   "name": "python",
   "nbconvert_exporter": "python",
   "pygments_lexer": "ipython3",
   "version": "3.9.12"
  },
  "orig_nbformat": 4,
  "vscode": {
   "interpreter": {
    "hash": "2abd4f297ebe42b0b9fe44bc33daa4dca42bb7d51be45439f82d0a685687feba"
   }
  }
 },
 "nbformat": 4,
 "nbformat_minor": 2
}
